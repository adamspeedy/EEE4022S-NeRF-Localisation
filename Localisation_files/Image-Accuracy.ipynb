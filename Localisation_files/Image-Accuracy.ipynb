{
 "cells": [
  {
   "cell_type": "markdown",
   "metadata": {},
   "source": [
    "# Rendered Image Accuracy Notebook\n",
    "This notebook is set up to compare the rendered NeRF images with the origional training images and determine how well the images match."
   ]
  },
  {
   "cell_type": "markdown",
   "metadata": {},
   "source": [
    "## Download dependencies"
   ]
  },
  {
   "cell_type": "code",
   "execution_count": null,
   "metadata": {},
   "outputs": [],
   "source": [
    "from math import log10, sqrt \n",
    "import cv2 \n",
    "import numpy as np \n",
    "from skimage import metrics\n",
    "#from skimage.measure import compare_ssim\n",
    "#import argparse\n"
   ]
  },
  {
   "cell_type": "markdown",
   "metadata": {},
   "source": [
    "## Creating methods to compare images"
   ]
  },
  {
   "cell_type": "code",
   "execution_count": null,
   "metadata": {},
   "outputs": [],
   "source": [
    "def PSNR(original, compressed): \n",
    "    mse = np.mean((original - compressed) ** 2) \n",
    "    if(mse == 0):  # MSE is zero means no noise is present in the signal . \n",
    "                  # Therefore PSNR have no importance. \n",
    "        return 100\n",
    "    max_pixel = 255.0\n",
    "    psnr = 20 * log10(max_pixel / sqrt(mse)) \n",
    "    return psnr "
   ]
  },
  {
   "cell_type": "code",
   "execution_count": null,
   "metadata": {},
   "outputs": [],
   "source": [
    "def mse(img1, img2):\n",
    "   h, w = img1.shape\n",
    "   diff = cv2.subtract(img1, img2)\n",
    "   err = np.sum(diff**2)\n",
    "   mse = err/(float(h*w))\n",
    "   return mse"
   ]
  },
  {
   "cell_type": "markdown",
   "metadata": {},
   "source": [
    "## Running the methods"
   ]
  },
  {
   "cell_type": "code",
   "execution_count": null,
   "metadata": {},
   "outputs": [],
   "source": [
    "#Running PSNR\n",
    "average =0\n",
    "count=0\n",
    "for i in range(0,869,1):\n",
    "    original = cv2.imread(\"C:\\\\Users\\\\adams\\\\Documents\\\\PythonStuff\\\\NerfStuff\\\\cropped-images\\\\Crop-\"+str(i)+\".png\") \n",
    "    compressed = cv2.imread(\"C:\\\\Users\\\\adams\\\\Documents\\\\PythonStuff\\\\NerfStuff\\\\ngp-cropped-frames\\\\\"+str(i)+\".png\", 1) \n",
    "\n",
    "    value = PSNR(original, compressed) \n",
    "    \n",
    "    if count%10==0:\n",
    "        print(f\"PSNR value is {round(value,6)} dB\") \n",
    "    average=average+value\n",
    "    count =count +1\n",
    "print(average/count)\n",
    "\n",
    "#the higher the score the better"
   ]
  },
  {
   "cell_type": "code",
   "execution_count": null,
   "metadata": {},
   "outputs": [],
   "source": [
    "average =0\n",
    "count=0\n",
    "for i in range(0,869,1):\n",
    "    #img1 = cv2.imread(\"images/\"+str(i)+\".png\") \n",
    "    #img2 = cv2.imread(\"Results-Frames-Uncropped/\"+str(i)+\".png\", 1)\n",
    "    img1 = cv2.imread(\"C:\\\\Users\\\\adams\\\\Documents\\\\PythonStuff\\\\NerfStuff\\\\cropped-images\\\\Crop-\"+str(i)+\".png\") \n",
    "    img2 = cv2.imread(\"C:\\\\Users\\\\adams\\\\Documents\\\\PythonStuff\\\\NerfStuff\\\\ngp-cropped-frames\\\\\"+str(i)+\".png\", 1)\n",
    "    img1 = cv2.cvtColor(img1, cv2.COLOR_BGR2GRAY)\n",
    "    img2 = cv2.cvtColor(img2, cv2.COLOR_BGR2GRAY)\n",
    "    error = mse(img1, img2)\n",
    "    if count%10==0:\n",
    "        print(f\"MSE value is {round(error,6)}\") \n",
    "    average=average+value\n",
    "    count =count +1\n",
    "print(average/count)\n",
    "\n",
    "#print(\"Image matching Error between the two images:\", round(error,6))"
   ]
  },
  {
   "cell_type": "code",
   "execution_count": null,
   "metadata": {},
   "outputs": [],
   "source": [
    "# Load images\n",
    "average =0\n",
    "count=0\n",
    "for i in range(0,869,1):\n",
    "    \n",
    "    #image1 = cv2.imread(\"images/\"+str(i)+\".png\") \n",
    "    #image2 = cv2.imread(\"Results-Frames-Uncropped/\"+str(i)+\".png\", 1)\n",
    "    image1 = cv2.imread(\"C:\\\\Users\\\\adams\\\\Documents\\\\PythonStuff\\\\NerfStuff\\\\cropped-images\\\\Crop-\"+str(i)+\".png\") \n",
    "    image2 = cv2.imread(\"C:\\\\Users\\\\adams\\\\Documents\\\\PythonStuff\\\\NerfStuff\\\\ngp-cropped-frames\\\\\"+str(i)+\".png\", 1)\n",
    "    image2 = cv2.resize(image2, (image1.shape[1], image1.shape[0]), interpolation = cv2.INTER_AREA)\n",
    "    #print(image1.shape, image2.shape)\n",
    "# Convert images to grayscale\n",
    "    image1_gray = cv2.cvtColor(image1, cv2.COLOR_BGR2GRAY)\n",
    "    image2_gray = cv2.cvtColor(image2, cv2.COLOR_BGR2GRAY)\n",
    "# Calculate SSIM\n",
    "    ssim_score = metrics.structural_similarity(image1_gray, image2_gray, full=True)\n",
    "    if count%10==0:\n",
    "        print(f\"SSIM Score: \", round(ssim_score[0], 6))\n",
    "    average=average+ssim_score[0]\n",
    "    count =count +1\n",
    "print(average/count)\n",
    "# SSIM Score: 0.38\n",
    "\n",
    "# values range from -1 to 1"
   ]
  }
 ],
 "metadata": {
  "language_info": {
   "name": "python"
  }
 },
 "nbformat": 4,
 "nbformat_minor": 2
}
